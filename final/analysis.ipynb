{
 "cells": [
  {
   "cell_type": "markdown",
   "id": "1ca870c6",
   "metadata": {},
   "source": [
    "#### 1."
   ]
  },
  {
   "cell_type": "markdown",
   "id": "49cf6e12",
   "metadata": {},
   "source": [
    "Based on diffrent range of the different scenario and the range of outocmes tested, and how the price coverge to the European put option (as I did in my unit test), I think GMWB is fairly priced as the price. "
   ]
  },
  {
   "cell_type": "markdown",
   "id": "dda0d3bc",
   "metadata": {},
   "source": [
    "assumption id: 2, scenario_id: 2, parameter_id: 1 (projection period 30, min_wd_age 65, delay 10)\n",
    "\n",
    "Price of GMWB with policy_id 1:  0.0 (age 35)\n",
    "\n",
    "Price of GMWB with policy_id 2:  41.33310141768487 (age 45)\n",
    "\n",
    "Price of GMWB with policy_id 3:  79.38248293078335 (age 55)\n",
    "\n",
    "Price of GMWB with policy_id 4:  54.0548748921577 (age 65)\n",
    "\n",
    "Price of GMWB with policy_id 5:  17.240244728622574 (age 75)\n",
    "\n",
    "Price of GMWB with policy_id 6:  0.0 (age 35)\n",
    "\n",
    "Price of GMWB with policy_id 7:  40.59708128654869 (age 45)\n",
    "\n",
    "Price of GMWB with policy_id 8:  112.26249684940265 (age 55)\n",
    "\n",
    "Price of GMWB with policy_id 9:  60.6233610211191 (age 65)\n",
    "\n",
    "Price of GMWB with policy_id 10:  18.994651182593387 (age 75)"
   ]
  },
  {
   "cell_type": "markdown",
   "id": "4f55a7ae",
   "metadata": {},
   "source": [
    "We can see that the price increased to certain point and decreased as issue_age (35-75) increased everything else the same. Policy_id 1 has issue age of 35, the minimum withdrawal age is 65, so the insured will not be withdrawing any money. Thus the price is 0. \n",
    "\n",
    "Moving on, we have price increases as people aged 45 start making withdrawals for 10 years, aged 55 making withdrawals for 20 years, and the price peaked. Since the wd_delay is 10 years, people aged 65 and 75 can only withdraw for 20 years as well, but with mortality comes into play, the pay out is going to decrease.\n",
    "\n",
    "First half of the cases are 'principal_back' while 2nd halfs are 'for life', and it make sense that the price of 2nd halfs is always greater than that of 1st halfs if the projection period is long enough "
   ]
  },
  {
   "cell_type": "markdown",
   "id": "cf9b93ed",
   "metadata": {},
   "source": [
    "#### 2."
   ]
  },
  {
   "cell_type": "markdown",
   "id": "144609a6",
   "metadata": {},
   "source": [
    "Columns title in results table with corresponding data below\n",
    "\n",
    "scenario_id, assumption_id, parameter_id, policy_id, cost\n"
   ]
  },
  {
   "cell_type": "markdown",
   "id": "b934a6c0",
   "metadata": {},
   "source": [
    "Fee Rate: A higher fee rate (q) results in a lower account value, which makes the GMWB more valuable. Thus, the value of the GMWB benefit VB increases as q increases"
   ]
  },
  {
   "cell_type": "markdown",
   "id": "840c1816",
   "metadata": {},
   "source": [
    "'2', '2', '1', '3', '85.6803' (fee: 0.001)\n",
    "\n",
    "'2', '2', '1', '3', '90.3206' (fee: 0.005)"
   ]
  },
  {
   "cell_type": "markdown",
   "id": "959e92f1",
   "metadata": {},
   "source": [
    "Guarantee_wd_rate: The higher the withdraw rate, the lower the account value when people withdraw more. Thus, value of GMWB increase with gurantee_wd_rate increases"
   ]
  },
  {
   "cell_type": "markdown",
   "id": "d2e800fd",
   "metadata": {},
   "source": [
    "'2', '2', '1', '3', '85.6803' (gurantee_wd_rate: 0.07)\n",
    "\n",
    "'2', '2', '1', '3', '116.064' (gurantee_wd_rate: 0.1)\n"
   ]
  },
  {
   "cell_type": "markdown",
   "id": "04596f2d",
   "metadata": {},
   "source": [
    "Volatility: Higher volatility generally increases the price of a Guaranteed Minimum Withdrawal Benefit (GMWB) due to the higher uncertainty and risk associated with market fluctuations, leading to greater hedging costs for the insurance provider."
   ]
  },
  {
   "cell_type": "markdown",
   "id": "1c4349fa",
   "metadata": {},
   "source": [
    "'1', '2', '1', '3', '17.4758' (vol: 0.15)\n",
    "\n",
    "'2', '2', '1', '3', '85.6803' (vol: 0.3)"
   ]
  },
  {
   "cell_type": "markdown",
   "id": "723ffdc1",
   "metadata": {},
   "source": [
    "Mortality_multiplier: higher mortality mutiplier intuitively it means it's gonna make the vavlue of wd_claim lower, decreasing the value of GMWB "
   ]
  },
  {
   "cell_type": "markdown",
   "id": "afa12581",
   "metadata": {},
   "source": [
    "'2', '3', '1', '3', '88.1724' (mort_mul: 0.95)\n",
    "\n",
    "'2', '2', '1', '3', '85.6803' (mort_mul: 1.05)\n"
   ]
  },
  {
   "cell_type": "markdown",
   "id": "ac407e66",
   "metadata": {},
   "source": [
    "Wd_age: value of GMWB increases if the wd_age decreases. This is because the present value of the guaranteed withdrawal benefit becomes larger as more values are withdrawn earlier"
   ]
  },
  {
   "cell_type": "markdown",
   "id": "b0c637dc",
   "metadata": {},
   "source": [
    "'2', '2', '1', '3', '60.125' (wd_age: 70)\n",
    "\n",
    "'2', '2', '1', '3', '85.6803' (wd_age: 65)\n"
   ]
  },
  {
   "cell_type": "markdown",
   "id": "e4f7732f",
   "metadata": {},
   "source": [
    "Min_wd_delay: Value of GMWB increases if the min_wd_delay decreases. This is because the present value of the guaranteed withdrawal benefit becomes larger as more values are withdrawn earlier"
   ]
  },
  {
   "cell_type": "markdown",
   "id": "4bf4f39b",
   "metadata": {},
   "source": [
    "'2', '2', '1', '3', '69.972' (min_wd_delay: 13)\n",
    "\n",
    "'2', '2', '1', '3', '85.6803' (min_wd_delay: 10)\n",
    "\n"
   ]
  }
 ],
 "metadata": {
  "kernelspec": {
   "display_name": "Python 3 (ipykernel)",
   "language": "python",
   "name": "python3"
  },
  "language_info": {
   "codemirror_mode": {
    "name": "ipython",
    "version": 3
   },
   "file_extension": ".py",
   "mimetype": "text/x-python",
   "name": "python",
   "nbconvert_exporter": "python",
   "pygments_lexer": "ipython3",
   "version": "3.10.9"
  }
 },
 "nbformat": 4,
 "nbformat_minor": 5
}
