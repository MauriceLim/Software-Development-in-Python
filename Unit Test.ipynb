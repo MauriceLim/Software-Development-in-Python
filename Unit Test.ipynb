{
 "cells": [
  {
   "cell_type": "markdown",
   "id": "6ab966ea",
   "metadata": {},
   "source": [
    "### Unit Test "
   ]
  },
  {
   "cell_type": "code",
   "execution_count": 706,
   "id": "13e72652",
   "metadata": {},
   "outputs": [],
   "source": [
    "import pandas as pd\n",
    "import numpy as np\n",
    "import matplotlib.pyplot as plt\n",
    "assumptions = pd.read_csv('assumptions.csv')\n",
    "parameters = pd.read_csv('parameters.csv')\n",
    "scenarios = pd.read_csv('scenarios.csv')\n",
    "policies = pd.read_csv('policies.csv')\n",
    "mortality = pd.read_csv('mortality.csv')"
   ]
  },
  {
   "cell_type": "code",
   "execution_count": 707,
   "id": "0d9675a7",
   "metadata": {},
   "outputs": [],
   "source": [
    "import math\n",
    "from scipy.stats import norm\n",
    "\n",
    "def black_scholes_dividend(option_type, S, K, T, r, sigma, q):\n",
    "    \n",
    "    d1 = (math.log((S +0.000001)/ (K+0.000001)) + (r - q + (sigma**2) / 2) * T) / (sigma * math.sqrt(T))\n",
    "    d2 = d1 - sigma * math.sqrt(T)\n",
    "\n",
    "    if option_type == 'call':\n",
    "        option_price = S * math.exp(-q * T) * norm.cdf(d1) - K * math.exp(-r * T) * norm.cdf(d2)\n",
    "    elif option_type == 'put':\n",
    "        option_price = K * math.exp(-r * T) * norm.cdf(-d2) - S * math.exp(-q * T) * norm.cdf(-d1)\n",
    "    else:\n",
    "        raise ValueError(\"Invalid option type. Use 'call' or 'put'.\")\n",
    "\n",
    "    return option_price"
   ]
  },
  {
   "cell_type": "code",
   "execution_count": 734,
   "id": "e5d9a546",
   "metadata": {},
   "outputs": [],
   "source": [
    "# assumption scenario paramater policy ids are 2 2 1 8 respectively \n",
    "\n",
    "initial_premium = policies.iloc[8-1]['initial_premium']\n",
    "issue_age = policies.iloc[8-1]['issue_age']\n",
    "fee_pct_av = policies.iloc[8-1]['fee_pct_av']\n",
    "benefit_type = policies.iloc[8-1]['benefit_type']\n",
    "guarantee_rate = policies.iloc[8-1]['guarantee_wd_rate']\n",
    "\n",
    "r = scenarios.iloc[2-1]['risk_free_rate']\n",
    "q = scenarios.iloc[2-1]['dividend_yield']\n",
    "vol = scenarios.iloc[2-1]['volatility']\n",
    "\n",
    "dur = parameters.iloc[1-1]['proj_periods']\n",
    "num_paths = parameters.iloc[1-1]['num_paths']\n",
    "\n",
    "mortality_multiplier = assumptions.iloc[2-1]['mortality_multiplier']\n",
    "min_wd_delay = assumptions.iloc[2-1]['min_wd_delay']\n",
    "wd_age = assumptions.iloc[2-1]['wd_age']\n",
    "\n",
    "qx = mortality['qx']\n",
    "\n",
    "dur_v = np.arange(0,dur+1,1)\n",
    "age_v = issue_age + dur_v\n",
    "prob_surv = np.zeros(len(dur_v))\n",
    "prob_surv[0] = 1\n",
    "for t in range(1, len(dur_v)):\n",
    "    if age_v[t] >= 115:\n",
    "        prob_surv[t] = 0\n",
    "    else:\n",
    "        prob_surv[t] = prob_surv[t-1] * (1 - qx[age_v[t]] * mortality_multiplier)\n",
    "discount_v = np.exp(-r*dur_v)"
   ]
  },
  {
   "cell_type": "markdown",
   "id": "8299b4b2",
   "metadata": {},
   "source": [
    "### modified version for unit testing "
   ]
  },
  {
   "cell_type": "markdown",
   "id": "2b33e533",
   "metadata": {},
   "source": [
    "Basically, I compute put price using BS European Put Analytical Solution with 1 year maturity for every year (k= wd amt, S=av after wd) and discount them to present value and \"Sum all the discounted put prices\" (without considering mortality)\n",
    "\n",
    "i.e., I'm applying the BS Analytical Solution dynamically in my loops. "
   ]
  },
  {
   "cell_type": "code",
   "execution_count": 740,
   "id": "97b80458",
   "metadata": {
    "scrolled": true
   },
   "outputs": [],
   "source": [
    "np.random.seed(0)\n",
    "GMWB_prices = []\n",
    "European_put_price = []\n",
    "for i in range(1,num_paths):\n",
    "    benefit_base = np.zeros(dur+1)\n",
    "    av_end_of_period = np.zeros(dur+1)\n",
    "    remaining_principal = np.zeros(dur+1)\n",
    "    av_beg_of_period = np.zeros(dur+1)\n",
    "    fee = np.zeros(dur+1)\n",
    "    av_after_fee = np.zeros(dur+1)\n",
    "    av_after_return = np.zeros(dur+1)\n",
    "    av_after_wd = np.zeros(dur+1)\n",
    "    wd_claim = np.zeros(dur+1)\n",
    "    av_end_of_period[0] = initial_premium\n",
    "    benefit_base[:] =initial_premium\n",
    "    remaining_principal[0] = initial_premium\n",
    "    epsilon = np.random.normal(size=dur+1)\n",
    "    found_negative = False\n",
    "    put_price = []\n",
    "\n",
    "    for j in range(1, dur+1):\n",
    "        av_beg_of_period[j] = av_end_of_period[j-1]\n",
    "        fee[j] = av_beg_of_period[j] * fee_pct_av\n",
    "        av_after_fee[j] = av_beg_of_period[j] - fee[j]\n",
    "        av_after_return[j] = av_after_fee[j] * np.exp((r-q-0.5*(vol**2))*1+vol*epsilon[j]*np.sqrt(1))\n",
    "        wd_amt = 0\n",
    "        \n",
    "        if (age_v[j]>wd_age) and (dur_v[j] > min_wd_delay):\n",
    "            if benefit_type == 'FOR_LIFE':\n",
    "                wd_amt = benefit_base[j] * guarantee_rate\n",
    "            elif benefit_type == 'PRINCIPAL_BACK':\n",
    "                wd_amt = min(benefit_base[j] * guarantee_rate, max(remaining_principal[j-1],av_after_return[j]))\n",
    "        remaining_principal[j] = remaining_principal[j-1] - wd_amt\n",
    "        av_after_wd[j] = av_after_return[j] - wd_amt\n",
    "        \n",
    "        if av_after_wd[j] < 0:\n",
    "            av_after_wd[j] = 0\n",
    "\n",
    "        if av_after_wd[j] <= 0 and not found_negative: # account for first time account depleted \n",
    "            av_after_wd[j] = abs(av_after_return[j] - wd_amt)\n",
    "            found_negative = True\n",
    "            wd_claim[j] = max(wd_amt - av_after_wd[j],0)\n",
    "            av_after_wd[j] = 0\n",
    "           \n",
    "            # Changes are made here \n",
    "            \n",
    "            put_price.append(black_scholes_dividend('put',av_after_wd[j],wd_amt,1,0.05,0.3,0.01)*np.exp(-0.05*j))\n",
    "            continue \n",
    "        \n",
    "        wd_claim[j] = max(wd_amt - av_after_wd[j],0)\n",
    "        \n",
    "        # Changes are made here \n",
    "        \n",
    "        put_price.append(black_scholes_dividend('put',av_after_wd[j],wd_amt,1,0.05,0.3,0.01)*np.exp(-0.05*j))\n",
    "        \n",
    "        av_end_of_period[j] = av_after_wd[j]\n",
    "    \n",
    "    # Changes are made here (remove mortality)\n",
    "    \n",
    "    CF = wd_claim * discount_v\n",
    "    European_put_price.append(np.sum(put_price))\n",
    "    GMWB_prices.append(np.sum(CF))"
   ]
  },
  {
   "cell_type": "code",
   "execution_count": 743,
   "id": "4875f297",
   "metadata": {},
   "outputs": [
    {
     "data": {
      "image/png": "[encoded data removed]",
      "text/plain": [
       "<Figure size 640x480 with 1 Axes>"
      ]
     },
     "metadata": {},
     "output_type": "display_data"
    }
   ],
   "source": [
    "plt.scatter(GMWB_prices, European_put_price, color='b', label='Option vs Prices')\n",
    "plt.plot([min(option), max(option)], [min(option), max(option)], color='r', linestyle='--', label='Ideal Line')\n",
    "plt.xlabel('Option Values')\n",
    "plt.ylabel('Prices')\n",
    "plt.title('Scatter Plot with Ideal Line')\n",
    "plt.legend()\n",
    "plt.show()\n"
   ]
  },
  {
   "cell_type": "code",
   "execution_count": 745,
   "id": "4e29994a",
   "metadata": {},
   "outputs": [
    {
     "data": {
      "text/plain": [
       "(179.37353246467038, 180.3346635891532)"
      ]
     },
     "execution_count": 745,
     "metadata": {},
     "output_type": "execute_result"
    }
   ],
   "source": [
    "np.average(GMWB_prices), np.average(European_put_price)"
   ]
  },
  {
   "cell_type": "markdown",
   "id": "0c140913",
   "metadata": {},
   "source": [
    "###  Conclusion: The value for European put price and GMWB_price (without mortality only) are pretty close. And with morality the price should go down"
   ]
  },
  {
   "cell_type": "code",
   "execution_count": 746,
   "id": "6734eb6a",
   "metadata": {},
   "outputs": [],
   "source": [
    "### With mortality \n",
    "\n",
    "np.random.seed(0)\n",
    "GMWB_prices = []\n",
    "for i in range(1,num_paths):\n",
    "    benefit_base = np.zeros(dur+1)\n",
    "    av_end_of_period = np.zeros(dur+1)\n",
    "    remaining_principal = np.zeros(dur+1)\n",
    "    av_beg_of_period = np.zeros(dur+1)\n",
    "    fee = np.zeros(dur+1)\n",
    "    av_after_fee = np.zeros(dur+1)\n",
    "    av_after_return = np.zeros(dur+1)\n",
    "    av_after_wd = np.zeros(dur+1)\n",
    "    wd_claim = np.zeros(dur+1)\n",
    "    av_end_of_period[0] = initial_premium\n",
    "    benefit_base[:] =initial_premium\n",
    "    remaining_principal[0] = initial_premium\n",
    "    epsilon = np.random.normal(size=dur+1)\n",
    "    found_negative = False\n",
    "    put_price = []\n",
    "\n",
    "    for j in range(1, dur+1):\n",
    "        av_beg_of_period[j] = av_end_of_period[j-1]\n",
    "        fee[j] = av_beg_of_period[j] * fee_pct_av\n",
    "        av_after_fee[j] = av_beg_of_period[j] - fee[j]\n",
    "        av_after_return[j] = av_after_fee[j] * np.exp((r-q-0.5*(vol**2))*1+vol*epsilon[j]*np.sqrt(1))\n",
    "        wd_amt = 0\n",
    "        \n",
    "        if (age_v[j]>wd_age) and (dur_v[j] > min_wd_delay):\n",
    "            if benefit_type == 'FOR_LIFE':\n",
    "                wd_amt = benefit_base[j] * guarantee_rate\n",
    "            elif benefit_type == 'PRINCIPAL_BACK':\n",
    "                wd_amt = min(benefit_base[j] * guarantee_rate, max(remaining_principal[j-1],av_after_return[j]))\n",
    "        remaining_principal[j] = remaining_principal[j-1] - wd_amt\n",
    "        av_after_wd[j] = av_after_return[j] - wd_amt\n",
    "        \n",
    "        if av_after_wd[j] < 0:\n",
    "            av_after_wd[j] = 0\n",
    "\n",
    "        if av_after_wd[j] <= 0 and not found_negative: # account for first time account depleted \n",
    "            av_after_wd[j] = abs(av_after_return[j] - wd_amt)\n",
    "            found_negative = True\n",
    "            wd_claim[j] = max(wd_amt - av_after_wd[j],0)\n",
    "            av_after_wd[j] = 0\n",
    "            continue\n",
    "        \n",
    "        wd_claim[j] = max(wd_amt - av_after_wd[j],0)\n",
    "                        \n",
    "        av_end_of_period[j] = av_after_wd[j]\n",
    "        \n",
    "    CF = wd_claim * discount_v * prob_surv\n",
    "    GMWB_prices.append(np.sum(CF))"
   ]
  },
  {
   "cell_type": "code",
   "execution_count": 748,
   "id": "c5b893af",
   "metadata": {},
   "outputs": [
    {
     "data": {
      "text/plain": [
       "116.97413118445616"
      ]
     },
     "execution_count": 748,
     "metadata": {},
     "output_type": "execute_result"
    }
   ],
   "source": [
    "np.average(GMWB_prices)"
   ]
  },
  {
   "cell_type": "markdown",
   "id": "2b7c9e52",
   "metadata": {},
   "source": [
    "### Thus, with mortality, prices decrease by about 63"
   ]
  },
  {
   "cell_type": "markdown",
   "id": "2d127ac0",
   "metadata": {},
   "source": [
    "### Try setting Growth Rate to 0 "
   ]
  },
  {
   "cell_type": "code",
   "execution_count": 767,
   "id": "fb2e43fb",
   "metadata": {},
   "outputs": [],
   "source": [
    "### Set Growth Rste = 0\n",
    "\n",
    "np.random.seed(0)\n",
    "GMWB_prices = []\n",
    "for i in range(1,num_paths):\n",
    "    benefit_base = np.zeros(dur+1)\n",
    "    av_end_of_period = np.zeros(dur+1)\n",
    "    remaining_principal = np.zeros(dur+1)\n",
    "    av_beg_of_period = np.zeros(dur+1)\n",
    "    fee = np.zeros(dur+1)\n",
    "    av_after_fee = np.zeros(dur+1)\n",
    "    av_after_return = np.zeros(dur+1)\n",
    "    av_after_wd = np.zeros(dur+1)\n",
    "    wd_claim = np.zeros(dur+1)\n",
    "    av_end_of_period[0] = initial_premium\n",
    "    benefit_base[:] =initial_premium\n",
    "    remaining_principal[0] = initial_premium\n",
    "    epsilon = np.random.normal(size=dur+1)\n",
    "    found_negative = False\n",
    "    put_price = []\n",
    "\n",
    "    for j in range(1, dur+1):\n",
    "        av_beg_of_period[j] = av_end_of_period[j-1]\n",
    "        fee[j] = av_beg_of_period[j] * fee_pct_av\n",
    "        av_after_fee[j] = av_beg_of_period[j] - fee[j]\n",
    "        av_after_return[j] = av_after_fee[j] * np.exp(0)\n",
    "        wd_amt = 0\n",
    "        \n",
    "        if (age_v[j]>wd_age) and (dur_v[j] > min_wd_delay):\n",
    "            if benefit_type == 'FOR_LIFE':\n",
    "                wd_amt = benefit_base[j] * guarantee_rate\n",
    "            elif benefit_type == 'PRINCIPAL_BACK':\n",
    "                wd_amt = min(benefit_base[j] * guarantee_rate, max(remaining_principal[j-1],av_after_return[j]))\n",
    "        remaining_principal[j] = remaining_principal[j-1] - wd_amt\n",
    "        av_after_wd[j] = av_after_return[j] - wd_amt\n",
    "        \n",
    "        if av_after_wd[j] < 0:\n",
    "            av_after_wd[j] = 0\n",
    "\n",
    "        if av_after_wd[j] <= 0 and not found_negative: # account for first time account depleted \n",
    "            av_after_wd[j] = abs(av_after_return[j] - wd_amt)\n",
    "            found_negative = True\n",
    "            wd_claim[j] = max(wd_amt - av_after_wd[j],0)\n",
    "            av_after_wd[j] = 0\n",
    "            continue\n",
    "        \n",
    "        wd_claim[j] = max(wd_amt - av_after_wd[j],0)\n",
    "                        \n",
    "        av_end_of_period[j] = av_after_wd[j]\n",
    "        \n",
    "    CF = wd_claim * discount_v * prob_surv\n",
    "    GMWB_prices.append(np.sum(CF))"
   ]
  },
  {
   "cell_type": "code",
   "execution_count": 768,
   "id": "1d9ecbef",
   "metadata": {
    "scrolled": true
   },
   "outputs": [
    {
     "data": {
      "text/plain": [
       "54.927189102749445"
      ]
     },
     "execution_count": 768,
     "metadata": {},
     "output_type": "execute_result"
    }
   ],
   "source": [
    "np.average(GMWB_prices)"
   ]
  },
  {
   "cell_type": "code",
   "execution_count": 770,
   "id": "b37ec2a5",
   "metadata": {},
   "outputs": [
    {
     "data": {
      "text/plain": [
       "array([0.        , 1.        , 0.999     , 0.998001  , 0.997003  ,\n",
       "       0.996006  , 0.99500999, 0.99401498, 0.99302097, 0.99202794,\n",
       "       0.99103592, 0.99004488, 0.91905484, 0.84813578, 0.77728764,\n",
       "       0.70651036, 0.63580385, 0.56516804, 0.49460287, 0.42410827,\n",
       "       0.35368416, 0.28333048, 0.21304715, 0.1428341 , 0.07269127,\n",
       "       0.00261858, 0.        , 0.        , 0.        , 0.        ,\n",
       "       0.        ])"
      ]
     },
     "execution_count": 770,
     "metadata": {},
     "output_type": "execute_result"
    }
   ],
   "source": [
    "fee"
   ]
  },
  {
   "cell_type": "code",
   "execution_count": 774,
   "id": "37e0d5f7",
   "metadata": {},
   "outputs": [
    {
     "data": {
      "text/plain": [
       "array([   0.        , 1000.        ,  999.        ,  998.001     ,\n",
       "        997.002999  ,  996.005996  ,  995.00999   ,  994.01498001,\n",
       "        993.02096503,  992.02794407,  991.03591613,  990.04488021,\n",
       "        919.05483533,  848.13578049,  777.28764471,  706.51035707,\n",
       "        635.80384671,  565.16804287,  494.60287482,  424.10827195,\n",
       "        353.68416368,  283.33047951,  213.04714903,  142.83410188,\n",
       "         72.69126778,    2.61857651,    0.        ,    0.        ,\n",
       "          0.        ,    0.        ,    0.        ])"
      ]
     },
     "execution_count": 774,
     "metadata": {},
     "output_type": "execute_result"
    }
   ],
   "source": [
    "av_beg_of_period"
   ]
  },
  {
   "cell_type": "code",
   "execution_count": 775,
   "id": "b59d140f",
   "metadata": {
    "scrolled": false
   },
   "outputs": [
    {
     "data": {
      "text/plain": [
       "array([  0.        , 999.        , 998.001     , 997.002999  ,\n",
       "       996.005996  , 995.00999   , 994.01498001, 993.02096503,\n",
       "       992.02794407, 991.03591613, 990.04488021, 989.05483533,\n",
       "       918.13578049, 847.28764471, 776.51035707, 705.80384671,\n",
       "       635.16804287, 564.60287482, 494.10827195, 423.68416368,\n",
       "       353.33047951, 283.04714903, 212.83410188, 142.69126778,\n",
       "        72.61857651,   2.61595794,   0.        ,   0.        ,\n",
       "         0.        ,   0.        ,   0.        ])"
      ]
     },
     "execution_count": 775,
     "metadata": {},
     "output_type": "execute_result"
    }
   ],
   "source": [
    "av_after_fee"
   ]
  },
  {
   "cell_type": "markdown",
   "id": "2cd555f9",
   "metadata": {},
   "source": [
    "### Fees are withdrawn as expected "
   ]
  }
 ],
 "metadata": {
  "kernelspec": {
   "display_name": "Python 3 (ipykernel)",
   "language": "python",
   "name": "python3"
  },
  "language_info": {
   "codemirror_mode": {
    "name": "ipython",
    "version": 3
   },
   "file_extension": ".py",
   "mimetype": "text/x-python",
   "name": "python",
   "nbconvert_exporter": "python",
   "pygments_lexer": "ipython3",
   "version": "3.10.9"
  }
 },
 "nbformat": 4,
 "nbformat_minor": 5
}
