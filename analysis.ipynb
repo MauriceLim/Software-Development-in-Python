{
 "cells": [
  {
   "cell_type": "markdown",
   "id": "1ca870c6",
   "metadata": {},
   "source": [
    "#### 1."
   ]
  },
  {
   "cell_type": "markdown",
   "id": "49cf6e12",
   "metadata": {},
   "source": [
    "Based on diffrent range of the different scenario and the range of outocmes tested, and how the price coverge to the European put option, I think GMWB is fairly priced as the price. "
   ]
  },
  {
   "cell_type": "markdown",
   "id": "cf9b93ed",
   "metadata": {},
   "source": [
    "#### 2."
   ]
  },
  {
   "cell_type": "markdown",
   "id": "144609a6",
   "metadata": {},
   "source": [
    "Columns at results table\n",
    "\n",
    "scenario_id, assumption_id, parameter_id, policy_id, cost\n"
   ]
  },
  {
   "cell_type": "markdown",
   "id": "b934a6c0",
   "metadata": {},
   "source": [
    "Fee Rate: A higher fee rate (q) results in a lower account value, which makes the GMWB more valuable. Thus, the value of the GMWB benefit VB increases as q increases"
   ]
  },
  {
   "cell_type": "markdown",
   "id": "959e92f1",
   "metadata": {},
   "source": [
    "guarantee_wd_rate: The higher the withdraw rate, the lower the account value when people withdraw more. Thus, value of GMWB increase with gurantee_wd_rate increases"
   ]
  },
  {
   "cell_type": "markdown",
   "id": "04596f2d",
   "metadata": {},
   "source": [
    "volatility: Higher volatility generally increases the price of a Guaranteed Minimum Withdrawal Benefit (GMWB) due to the higher uncertainty and risk associated with market fluctuations, leading to greater hedging costs for the insurance provider."
   ]
  },
  {
   "cell_type": "markdown",
   "id": "1c4349fa",
   "metadata": {},
   "source": [
    "'1', '2', '1', '3', '17.4758' (vol: 0.15)\n",
    "\n",
    "'2', '2', '1', '3', '85.6803' (vol: 0.3)"
   ]
  },
  {
   "cell_type": "markdown",
   "id": "723ffdc1",
   "metadata": {},
   "source": [
    "mortality_multiplier: higher mortality mutiplier intuitively it means it's gonna make the vavlue of wd_claim lower, decreasing the value of GMWB "
   ]
  },
  {
   "cell_type": "markdown",
   "id": "afa12581",
   "metadata": {},
   "source": [
    "'2', '3', '1', '3', '88.1724' (mort_mul: 0.95)\n",
    "\n",
    "'2', '2', '1', '3', '85.6803' (mort_mul: 1.05)\n"
   ]
  },
  {
   "cell_type": "markdown",
   "id": "ac407e66",
   "metadata": {},
   "source": [
    "wd_age: value of GMWB increases if the wd_age decreases. This is because the present value of the guaranteed withdrawal benefit becomes larger as more values are withdrawn earlier"
   ]
  },
  {
   "cell_type": "markdown",
   "id": "e4f7732f",
   "metadata": {},
   "source": [
    "min_wd_delay: Value of GMWB increases if the min_wd_delay decreases. This is because the present value of the guaranteed withdrawal benefit becomes larger as more values are withdrawn earlier"
   ]
  }
 ],
 "metadata": {
  "kernelspec": {
   "display_name": "Python 3 (ipykernel)",
   "language": "python",
   "name": "python3"
  },
  "language_info": {
   "codemirror_mode": {
    "name": "ipython",
    "version": 3
   },
   "file_extension": ".py",
   "mimetype": "text/x-python",
   "name": "python",
   "nbconvert_exporter": "python",
   "pygments_lexer": "ipython3",
   "version": "3.10.9"
  }
 },
 "nbformat": 4,
 "nbformat_minor": 5
}
