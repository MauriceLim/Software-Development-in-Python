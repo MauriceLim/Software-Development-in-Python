{
 "cells": [
  {
   "cell_type": "markdown",
   "id": "e64347fc",
   "metadata": {},
   "source": [
    "# 1. Prep Work"
   ]
  },
  {
   "cell_type": "code",
   "execution_count": 419,
   "id": "0302eef4",
   "metadata": {},
   "outputs": [],
   "source": [
    "import numpy as np\n",
    "import pandas as pd\n",
    "import matplotlib.pyplot as plt\n",
    "from typing import Callable "
   ]
  },
  {
   "cell_type": "markdown",
   "id": "4b35e3f5",
   "metadata": {},
   "source": [
    "#### a)$$I = \\int_a^b20-x^2dx$$"
   ]
  },
  {
   "cell_type": "markdown",
   "id": "89093706",
   "metadata": {},
   "source": [
    "$$I = 20b - \\frac{b^3}{3} - (20a - \\frac{a^3}{3}) + c$$"
   ]
  },
  {
   "cell_type": "code",
   "execution_count": 2,
   "id": "21a88565",
   "metadata": {},
   "outputs": [],
   "source": [
    "#b)\n",
    "def f(x: float) -> float:\n",
    "    y = 20 - x**2\n",
    "    return y\n"
   ]
  },
  {
   "cell_type": "code",
   "execution_count": 3,
   "id": "c1825174",
   "metadata": {},
   "outputs": [],
   "source": [
    "#c)\n",
    "def I(a: float, b: float) -> float: \n",
    "    return 20*b - (b**3)/3 - 20*a + (a**3)/3"
   ]
  },
  {
   "cell_type": "markdown",
   "id": "a8d72e65",
   "metadata": {},
   "source": [
    "# 2. Basic Monte Carlo"
   ]
  },
  {
   "cell_type": "markdown",
   "id": "4aaf8241",
   "metadata": {},
   "source": [
    "### a) $$\\mathbb{E}^{p}[I^{Basic}_n] = I$$"
   ]
  },
  {
   "cell_type": "code",
   "execution_count": 361,
   "id": "76a4e2d2",
   "metadata": {},
   "outputs": [],
   "source": [
    "#b) \n",
    "\n",
    "def mc_basic(f: Callable[[float], float], a: float, b: float, n: int) -> tuple[float, float]:\n",
    "    px = 1 / (b - a)\n",
    "    ys = np.array(list(map(f,np.random.uniform(a,b,n))))\n",
    "    print(ys)\n",
    "    I = np.mean(ys/px)\n",
    "    var_I = np.var(ys/px)/n\n",
    "    \n",
    "    return I,var_I"
   ]
  },
  {
   "cell_type": "markdown",
   "id": "e7961b59",
   "metadata": {},
   "source": [
    "### c) $$Var({I^{Basic}_n}) = \\frac{1}{n}\\cdot[E(g(x)^2) - E(g(x))^2]$$"
   ]
  },
  {
   "cell_type": "markdown",
   "id": "8cd43031",
   "metadata": {},
   "source": [
    "$$= \\frac{1}{n}\\left[\\int_a^b\\frac{f(x)^2}{p(x)^2}\\cdot p(x)dx - \\left(\\int_a^b\\frac{f(x)}{p(x)}\\cdot p(x)dx\\right)^2\\right]$$"
   ]
  },
  {
   "cell_type": "markdown",
   "id": "a245fc7d",
   "metadata": {},
   "source": [
    "$$ =\\frac{1}{n}\\left[\\int_a^b\\frac{f(x)^2}{p(x)}dx - \\left(\\int_a^bf(x)dx\\right)^2\\right]$$"
   ]
  },
  {
   "cell_type": "markdown",
   "id": "ca7904cf",
   "metadata": {},
   "source": [
    "$$= \\frac{1}{n}\\left[(b-a) \\int_{a}^{b} (20 - x^2)^2 \\, dx - \\left(\\int_{a}^{b} (20 - x^2) \\, dx\\right)^2\\right]$$\n"
   ]
  },
  {
   "cell_type": "markdown",
   "id": "78464996",
   "metadata": {},
   "source": [
    "$$= \\frac{1}{n}\\left[\\left((b-a)\\left(400x - \\frac{40x^3}{3} + \\frac{x^5}{5}\\right) - \\left(20x - \\frac{x^3}{3}\\right)^2\\right)^{\\Big|_{a}^{b}}\\right]$$\n",
    "\n"
   ]
  },
  {
   "cell_type": "markdown",
   "id": "b181d1ef",
   "metadata": {},
   "source": [
    "$$= \\frac{1}{n}\\left[(b-a)\\left(400(b-a) - \\frac{40(b^3-a^3)}{3} + \\frac{b^5-a^5}{5}\\right) - \\left(20(b-a) - \\frac{)b^3-a^3)}{3}\\right)^2\\right]$$\n",
    "\n"
   ]
  },
  {
   "cell_type": "code",
   "execution_count": 39,
   "id": "5fa517e3",
   "metadata": {},
   "outputs": [],
   "source": [
    "#d)\n",
    "\n",
    "def mc_basic_variance_true(a: float, b: float, n: int) -> float:\n",
    "    return ((b-a)*(400*(b-a)-40*(b**3-a**3)/3+(b**5-a**5)/5)-(20*(b-a)-(b**3-a**3)/3)**2)/n"
   ]
  },
  {
   "cell_type": "code",
   "execution_count": 232,
   "id": "0858e82c",
   "metadata": {
    "scrolled": true
   },
   "outputs": [
    {
     "data": {
      "text/html": [
       "<div>\n",
       "<style scoped>\n",
       "    .dataframe tbody tr th:only-of-type {\n",
       "        vertical-align: middle;\n",
       "    }\n",
       "\n",
       "    .dataframe tbody tr th {\n",
       "        vertical-align: top;\n",
       "    }\n",
       "\n",
       "    .dataframe thead th {\n",
       "        text-align: right;\n",
       "    }\n",
       "</style>\n",
       "<table border=\"1\" class=\"dataframe\">\n",
       "  <thead>\n",
       "    <tr style=\"text-align: right;\">\n",
       "      <th></th>\n",
       "      <th>Metric</th>\n",
       "      <th>Value</th>\n",
       "    </tr>\n",
       "  </thead>\n",
       "  <tbody>\n",
       "    <tr>\n",
       "      <th>0</th>\n",
       "      <td>integral_true</td>\n",
       "      <td>70.666667</td>\n",
       "    </tr>\n",
       "    <tr>\n",
       "      <th>1</th>\n",
       "      <td>integral_estiamte</td>\n",
       "      <td>70.700756</td>\n",
       "    </tr>\n",
       "    <tr>\n",
       "      <th>2</th>\n",
       "      <td>difference</td>\n",
       "      <td>0.031434</td>\n",
       "    </tr>\n",
       "    <tr>\n",
       "      <th>3</th>\n",
       "      <td>sigma^2_estiamte/n</td>\n",
       "      <td>0.001078</td>\n",
       "    </tr>\n",
       "    <tr>\n",
       "      <th>4</th>\n",
       "      <td>sigma^2_estimate</td>\n",
       "      <td>107.920705</td>\n",
       "    </tr>\n",
       "    <tr>\n",
       "      <th>5</th>\n",
       "      <td>sigma^2_true/n</td>\n",
       "      <td>0.001081</td>\n",
       "    </tr>\n",
       "    <tr>\n",
       "      <th>6</th>\n",
       "      <td>sigma^2_true</td>\n",
       "      <td>108.088889</td>\n",
       "    </tr>\n",
       "  </tbody>\n",
       "</table>\n",
       "</div>"
      ],
      "text/plain": [
       "               Metric       Value\n",
       "0       integral_true   70.666667\n",
       "1   integral_estiamte   70.700756\n",
       "2          difference    0.031434\n",
       "3  sigma^2_estiamte/n    0.001078\n",
       "4    sigma^2_estimate  107.920705\n",
       "5      sigma^2_true/n    0.001081\n",
       "6        sigma^2_true  108.088889"
      ]
     },
     "execution_count": 232,
     "metadata": {},
     "output_type": "execute_result"
    }
   ],
   "source": [
    "#e)\n",
    "\n",
    "metric = [\"integral_true\",\"integral_estiamte\",\"difference\", \"sigma^2_estiamte/n\",\"sigma^2_estimate\",\"sigma^2_true/n\",\"sigma^2_true\"]\n",
    "value = [I(-1,3),mc_basic(f, -1, 3, 100000)[0],I(-1,3)-mc_basic(f, -1, 3, 100000)[0],mc_basic(f, -1, 3, 100000)[1],100000*mc_basic(f, -1, 3, 100000)[1],mc_basic_variance_true(-1,3,100000),mc_basic_variance_true(-1,3,100000)*100000]\n",
    "d = pd.DataFrame({\"Metric\":metric,\"Value\":value})\n",
    "d"
   ]
  },
  {
   "cell_type": "markdown",
   "id": "de82646d",
   "metadata": {},
   "source": [
    "# 3. Antithetic uniform samples"
   ]
  },
  {
   "cell_type": "markdown",
   "id": "19b99b15",
   "metadata": {},
   "source": [
    "## a) $$\\mathbb{E}^{p}[I^{Antithetic}_n] = I$$"
   ]
  },
  {
   "cell_type": "code",
   "execution_count": 199,
   "id": "86054676",
   "metadata": {},
   "outputs": [],
   "source": [
    "#b)\n",
    "\n",
    "def mc_antithetic(f: Callable[[float], float], a: float, b: float, n: int) -> tuple[float, float]:\n",
    "    px = 1 / (b - a)\n",
    "    u = np.random.uniform(0,1,int(n/2))\n",
    "    xs = a + (b-a) * u    #transformation \n",
    "    xs2 = a + (b-a) * (1-u) \n",
    "    ys = np.array(list(map(f,xs)))\n",
    "    ys2 = np.array(list(map(f,xs2)))\n",
    "    I = (np.sum(ys/px) + np.sum(ys2/px))/n\n",
    "    \n",
    "    var_I = ((np.var(ys/px)+np.var(ys2/px))/2 + np.cov(ys/px,ys2/px)[1,0])/n #introduce negative covariance\n",
    "    \n",
    "    return I,var_I"
   ]
  },
  {
   "cell_type": "code",
   "execution_count": 201,
   "id": "69ad64c1",
   "metadata": {},
   "outputs": [
    {
     "data": {
      "text/html": [
       "<div>\n",
       "<style scoped>\n",
       "    .dataframe tbody tr th:only-of-type {\n",
       "        vertical-align: middle;\n",
       "    }\n",
       "\n",
       "    .dataframe tbody tr th {\n",
       "        vertical-align: top;\n",
       "    }\n",
       "\n",
       "    .dataframe thead th {\n",
       "        text-align: right;\n",
       "    }\n",
       "</style>\n",
       "<table border=\"1\" class=\"dataframe\">\n",
       "  <thead>\n",
       "    <tr style=\"text-align: right;\">\n",
       "      <th></th>\n",
       "      <th>Metric</th>\n",
       "      <th>Value</th>\n",
       "    </tr>\n",
       "  </thead>\n",
       "  <tbody>\n",
       "    <tr>\n",
       "      <th>0</th>\n",
       "      <td>integral_true</td>\n",
       "      <td>70.666667</td>\n",
       "    </tr>\n",
       "    <tr>\n",
       "      <th>1</th>\n",
       "      <td>integral_estiamte</td>\n",
       "      <td>70.647256</td>\n",
       "    </tr>\n",
       "    <tr>\n",
       "      <th>2</th>\n",
       "      <td>difference</td>\n",
       "      <td>-0.013044</td>\n",
       "    </tr>\n",
       "    <tr>\n",
       "      <th>3</th>\n",
       "      <td>sigma^2_estiamte/n</td>\n",
       "      <td>0.000453</td>\n",
       "    </tr>\n",
       "    <tr>\n",
       "      <th>4</th>\n",
       "      <td>sigma^2_estimate</td>\n",
       "      <td>45.410363</td>\n",
       "    </tr>\n",
       "  </tbody>\n",
       "</table>\n",
       "</div>"
      ],
      "text/plain": [
       "               Metric      Value\n",
       "0       integral_true  70.666667\n",
       "1   integral_estiamte  70.647256\n",
       "2          difference  -0.013044\n",
       "3  sigma^2_estiamte/n   0.000453\n",
       "4    sigma^2_estimate  45.410363"
      ]
     },
     "execution_count": 201,
     "metadata": {},
     "output_type": "execute_result"
    }
   ],
   "source": [
    "#c) \n",
    "\n",
    "metric = [\"integral_true\",\"integral_estiamte\",\"difference\", \"sigma^2_estiamte/n\",\"sigma^2_estimate\"]\n",
    "value = [I(-1,3),mc_antithetic(f, -1, 3, 100000)[0],I(-1,3)-mc_antithetic(f, -1, 3, 100000)[0],mc_antithetic(f, -1, 3, 100000)[1],100000*mc_antithetic(f, -1, 3, 100000)[1]]\n",
    "d = pd.DataFrame({\"Metric\":metric,\"Value\":value})\n",
    "d"
   ]
  },
  {
   "cell_type": "markdown",
   "id": "97136e09",
   "metadata": {},
   "source": [
    "# 4) Control Variate"
   ]
  },
  {
   "cell_type": "markdown",
   "id": "e65a5563",
   "metadata": {},
   "source": [
    "## a) $$\\mathbb{E}^{p}[I^{ControlVariate}_n] = I$$"
   ]
  },
  {
   "cell_type": "code",
   "execution_count": 206,
   "id": "f5c07113",
   "metadata": {},
   "outputs": [],
   "source": [
    "#b)\n",
    "\n",
    "def h1(x: float) -> float:\n",
    "    return 20*np.cos(x/3)\n",
    "\n",
    "def h2(x: float) -> float: \n",
    "    return 20*np.sin(x/3)\n",
    "\n",
    "def H1(a: float, b: float) -> float:\n",
    "    return 60 * (np.sin(b/3) - np.sin(a/3))\n",
    "\n",
    "def H2(a: float, b: float) -> float:\n",
    "    return -60 * (np.cos(b/3)-np.cos(a/3))\n"
   ]
  },
  {
   "cell_type": "code",
   "execution_count": 230,
   "id": "824c84a9",
   "metadata": {},
   "outputs": [],
   "source": [
    "#c) \n",
    "\n",
    "def mc_control_variate(f: Callable[[float], float], a: float, b: float, n: int, h: Callable[[float], float], H: Callable[[float, float], float]) -> tuple[float, float]:\n",
    "    px = 1 / (b - a)\n",
    "    u = np.random.uniform(a,b,n)\n",
    "    ys = np.array(list(map(f,u)))\n",
    "    hs = np.array(list(map(h,u)))\n",
    "    I = np.mean((ys-hs)/px) + H(a,b)\n",
    "    var_I = ((np.var(ys/px)+np.var(hs/px)) - 2 * np.cov(ys/px,hs/px)[1,0])/n\n",
    "    \n",
    "    return I,var_I\n"
   ]
  },
  {
   "cell_type": "code",
   "execution_count": 231,
   "id": "457d04dd",
   "metadata": {},
   "outputs": [
    {
     "data": {
      "text/html": [
       "<div>\n",
       "<style scoped>\n",
       "    .dataframe tbody tr th:only-of-type {\n",
       "        vertical-align: middle;\n",
       "    }\n",
       "\n",
       "    .dataframe tbody tr th {\n",
       "        vertical-align: top;\n",
       "    }\n",
       "\n",
       "    .dataframe thead th {\n",
       "        text-align: right;\n",
       "    }\n",
       "</style>\n",
       "<table border=\"1\" class=\"dataframe\">\n",
       "  <thead>\n",
       "    <tr style=\"text-align: right;\">\n",
       "      <th></th>\n",
       "      <th>Metric</th>\n",
       "      <th>Integral h1</th>\n",
       "      <th>Integral h2</th>\n",
       "    </tr>\n",
       "  </thead>\n",
       "  <tbody>\n",
       "    <tr>\n",
       "      <th>0</th>\n",
       "      <td>integral_true</td>\n",
       "      <td>70.666667</td>\n",
       "      <td>70.666667</td>\n",
       "    </tr>\n",
       "    <tr>\n",
       "      <th>1</th>\n",
       "      <td>integral_estiamte</td>\n",
       "      <td>70.665535</td>\n",
       "      <td>70.630899</td>\n",
       "    </tr>\n",
       "    <tr>\n",
       "      <th>2</th>\n",
       "      <td>difference</td>\n",
       "      <td>-0.000211</td>\n",
       "      <td>-0.104330</td>\n",
       "    </tr>\n",
       "    <tr>\n",
       "      <th>3</th>\n",
       "      <td>sigma^2_estiamte/n</td>\n",
       "      <td>0.000002</td>\n",
       "      <td>0.013880</td>\n",
       "    </tr>\n",
       "    <tr>\n",
       "      <th>4</th>\n",
       "      <td>sigma^2_estimate</td>\n",
       "      <td>0.199540</td>\n",
       "      <td>1386.526957</td>\n",
       "    </tr>\n",
       "  </tbody>\n",
       "</table>\n",
       "</div>"
      ],
      "text/plain": [
       "               Metric  Integral h1  Integral h2\n",
       "0       integral_true    70.666667    70.666667\n",
       "1   integral_estiamte    70.665535    70.630899\n",
       "2          difference    -0.000211    -0.104330\n",
       "3  sigma^2_estiamte/n     0.000002     0.013880\n",
       "4    sigma^2_estimate     0.199540  1386.526957"
      ]
     },
     "execution_count": 231,
     "metadata": {},
     "output_type": "execute_result"
    }
   ],
   "source": [
    "#d) \n",
    "metric = [\"integral_true\",\"integral_estiamte\",\"difference\", \"sigma^2_estiamte/n\",\"sigma^2_estimate\"]\n",
    "integral1 = [I(-1,3),mc_control_variate(f, -1, 3, 100000, h1, H1)[0],I(-1,3)-mc_control_variate(f, -1, 3, 100000, h1, H1)[0],mc_control_variate(f, -1, 3, 100000, h1, H1)[1],100000*mc_control_variate(f, -1, 3, 100000, h1, H1)[1]]\n",
    "integral2 = [I(-1,3),mc_control_variate(f, -1, 3, 100000, h2, H2)[0],I(-1,3)-mc_control_variate(f, -1, 3, 100000, h2, H2)[0],mc_control_variate(f, -1, 3, 100000, h2, H2)[1],100000*mc_control_variate(f, -1, 3, 100000, h2, H2)[1]]\n",
    "\n",
    "d = pd.DataFrame({\"Metric\":metric,\"Integral h1\":integral1, \"Integral h2\":integral2})\n",
    "d"
   ]
  },
  {
   "cell_type": "markdown",
   "id": "7aacc867",
   "metadata": {},
   "source": [
    "e) from the table we can see that integral h1 is beter as it gives us smaller variance of estimator \n",
    "\n",
    "f) Compared to the basic estimate, the integral estiamte is about the same while the variance is decreased, which is what I expected"
   ]
  },
  {
   "cell_type": "markdown",
   "id": "74b993b3",
   "metadata": {},
   "source": [
    "# 5) Importance Sampling"
   ]
  },
  {
   "cell_type": "markdown",
   "id": "a2072f04",
   "metadata": {},
   "source": [
    "## a) $$\\mathbb{E}^{p}[I^{Importance}_n] = I$$"
   ]
  },
  {
   "cell_type": "code",
   "execution_count": 411,
   "id": "c9c75dad",
   "metadata": {},
   "outputs": [],
   "source": [
    "#b) \n",
    "from scipy.stats import norm\n",
    "\n",
    "def mc_importance(f: Callable[[float], float], a: float, b: float, n: int, sigma: float) -> tuple[float, float, float]:\n",
    "    \n",
    "    cdf_low = norm.cdf(a,0,sigma) #scaling\n",
    "    cdf_up = norm.cdf(b,0,sigma)    \n",
    "    scaling = 1/ (cdf_up - cdf_low) \n",
    "    \n",
    "    xs = np.random.normal(0,sigma,n)\n",
    "    n_selected = np.array([x for x in xs if a <= x <= b]) #choose n between -1 & 3\n",
    "    \n",
    "    pdf = norm.pdf(n_selected, 0, sigma) * scaling\n",
    "    \n",
    "    ys = np.array(list(map(f,n_selected)))\n",
    "    \n",
    "    I = np.mean(ys/pdf)\n",
    "    var_I = np.var(ys/pdf)/len(n_selected)\n",
    "    \n",
    "    return I,var_I, len(n_selected)"
   ]
  },
  {
   "cell_type": "code",
   "execution_count": 414,
   "id": "cd821530",
   "metadata": {},
   "outputs": [
    {
     "data": {
      "text/html": [
       "<div>\n",
       "<style scoped>\n",
       "    .dataframe tbody tr th:only-of-type {\n",
       "        vertical-align: middle;\n",
       "    }\n",
       "\n",
       "    .dataframe tbody tr th {\n",
       "        vertical-align: top;\n",
       "    }\n",
       "\n",
       "    .dataframe thead th {\n",
       "        text-align: right;\n",
       "    }\n",
       "</style>\n",
       "<table border=\"1\" class=\"dataframe\">\n",
       "  <thead>\n",
       "    <tr style=\"text-align: right;\">\n",
       "      <th></th>\n",
       "      <th>integral_true</th>\n",
       "      <th>integral_estimate</th>\n",
       "      <th>difference</th>\n",
       "      <th>sigma^2_estimate/n</th>\n",
       "      <th>sigma^2_estimate</th>\n",
       "      <th>n_selected</th>\n",
       "    </tr>\n",
       "  </thead>\n",
       "  <tbody>\n",
       "    <tr>\n",
       "      <th>0</th>\n",
       "      <td>70.666667</td>\n",
       "      <td>70.331331</td>\n",
       "      <td>0.335336</td>\n",
       "      <td>0.111053</td>\n",
       "      <td>9330.117828</td>\n",
       "      <td>84015</td>\n",
       "    </tr>\n",
       "    <tr>\n",
       "      <th>1</th>\n",
       "      <td>70.666667</td>\n",
       "      <td>70.642921</td>\n",
       "      <td>0.023746</td>\n",
       "      <td>0.001822</td>\n",
       "      <td>113.974258</td>\n",
       "      <td>62557</td>\n",
       "    </tr>\n",
       "    <tr>\n",
       "      <th>2</th>\n",
       "      <td>70.666667</td>\n",
       "      <td>70.667419</td>\n",
       "      <td>-0.000752</td>\n",
       "      <td>0.000034</td>\n",
       "      <td>1.605476</td>\n",
       "      <td>47113</td>\n",
       "    </tr>\n",
       "    <tr>\n",
       "      <th>3</th>\n",
       "      <td>70.666667</td>\n",
       "      <td>70.696236</td>\n",
       "      <td>-0.029569</td>\n",
       "      <td>0.000711</td>\n",
       "      <td>26.347145</td>\n",
       "      <td>37081</td>\n",
       "    </tr>\n",
       "    <tr>\n",
       "      <th>4</th>\n",
       "      <td>70.666667</td>\n",
       "      <td>70.686421</td>\n",
       "      <td>-0.019754</td>\n",
       "      <td>0.001611</td>\n",
       "      <td>49.050628</td>\n",
       "      <td>30441</td>\n",
       "    </tr>\n",
       "    <tr>\n",
       "      <th>5</th>\n",
       "      <td>70.666667</td>\n",
       "      <td>70.665697</td>\n",
       "      <td>0.000970</td>\n",
       "      <td>0.002537</td>\n",
       "      <td>65.236471</td>\n",
       "      <td>25714</td>\n",
       "    </tr>\n",
       "    <tr>\n",
       "      <th>6</th>\n",
       "      <td>70.666667</td>\n",
       "      <td>70.554489</td>\n",
       "      <td>0.112177</td>\n",
       "      <td>0.003393</td>\n",
       "      <td>75.569056</td>\n",
       "      <td>22274</td>\n",
       "    </tr>\n",
       "    <tr>\n",
       "      <th>7</th>\n",
       "      <td>70.666667</td>\n",
       "      <td>70.648094</td>\n",
       "      <td>0.018573</td>\n",
       "      <td>0.004219</td>\n",
       "      <td>82.956256</td>\n",
       "      <td>19662</td>\n",
       "    </tr>\n",
       "    <tr>\n",
       "      <th>8</th>\n",
       "      <td>70.666667</td>\n",
       "      <td>70.706941</td>\n",
       "      <td>-0.040274</td>\n",
       "      <td>0.005059</td>\n",
       "      <td>87.655350</td>\n",
       "      <td>17326</td>\n",
       "    </tr>\n",
       "    <tr>\n",
       "      <th>9</th>\n",
       "      <td>70.666667</td>\n",
       "      <td>70.667697</td>\n",
       "      <td>-0.001031</td>\n",
       "      <td>0.005856</td>\n",
       "      <td>92.399231</td>\n",
       "      <td>15778</td>\n",
       "    </tr>\n",
       "  </tbody>\n",
       "</table>\n",
       "</div>"
      ],
      "text/plain": [
       "   integral_true  integral_estimate  difference  sigma^2_estimate/n  \\\n",
       "0      70.666667          70.331331    0.335336            0.111053   \n",
       "1      70.666667          70.642921    0.023746            0.001822   \n",
       "2      70.666667          70.667419   -0.000752            0.000034   \n",
       "3      70.666667          70.696236   -0.029569            0.000711   \n",
       "4      70.666667          70.686421   -0.019754            0.001611   \n",
       "5      70.666667          70.665697    0.000970            0.002537   \n",
       "6      70.666667          70.554489    0.112177            0.003393   \n",
       "7      70.666667          70.648094    0.018573            0.004219   \n",
       "8      70.666667          70.706941   -0.040274            0.005059   \n",
       "9      70.666667          70.667697   -0.001031            0.005856   \n",
       "\n",
       "   sigma^2_estimate  n_selected  \n",
       "0       9330.117828       84015  \n",
       "1        113.974258       62557  \n",
       "2          1.605476       47113  \n",
       "3         26.347145       37081  \n",
       "4         49.050628       30441  \n",
       "5         65.236471       25714  \n",
       "6         75.569056       22274  \n",
       "7         82.956256       19662  \n",
       "8         87.655350       17326  \n",
       "9         92.399231       15778  "
      ]
     },
     "execution_count": 414,
     "metadata": {},
     "output_type": "execute_result"
    }
   ],
   "source": [
    "#c)\n",
    "sigma_values = list(range(1, 11))  # [0, 1, 2, ..., 10]\n",
    "\n",
    "metric = [\"integral_true\", \"integral_estimate\", \"difference\", \"sigma^2_estimate/n\", \"sigma^2_estimate\",\"n_selected\"]\n",
    "\n",
    "metric_data = {m: [] for m in metric}\n",
    "\n",
    "for sigma in sigma_values:\n",
    "    mc_result = mc_importance(f, -1, 3, 100000, sigma)\n",
    "    metric_data[\"integral_true\"].append(I(-1, 3))\n",
    "    metric_data[\"integral_estimate\"].append(mc_result[0])\n",
    "    metric_data[\"difference\"].append(I(-1, 3) - mc_result[0])\n",
    "    metric_data[\"sigma^2_estimate/n\"].append(mc_result[1])\n",
    "    metric_data[\"sigma^2_estimate\"].append(mc_result[2] * mc_result[1])\n",
    "    metric_data[\"n_selected\"].append(mc_result[2])\n",
    "\n",
    "df = pd.DataFrame(metric_data)\n",
    "\n",
    "df\n"
   ]
  },
  {
   "cell_type": "code",
   "execution_count": 420,
   "id": "e66012ed",
   "metadata": {},
   "outputs": [
    {
     "data": {
      "text/plain": [
       "[<matplotlib.lines.Line2D at 0x7f7a215fb580>]"
      ]
     },
     "execution_count": 420,
     "metadata": {},
     "output_type": "execute_result"
    },
    {
     "data": {
      "image/png": "[encoded data removed]",
      "text/plain": [
       "<Figure size 640x480 with 1 Axes>"
      ]
     },
     "metadata": {},
     "output_type": "display_data"
    }
   ],
   "source": [
    "#d) Which of the 10 importance sampling estimators is best? Why? Use a graph if you need to support your answer.\n",
    "\n",
    "# Variance of the estimator is the lowest for sigma = 3, so the normal with mean 0 and sigma 3 is the best?\n",
    "# The reason is the interval that we picked is [-1,3]. Thus, most of the value that we are choosing is within\n",
    "# the within one standard deviation from mean (also the best compared to other sigmas)\n",
    " \n",
    "plt.plot(sigma_values,metric_data[\"sigma^2_estimate/n\"])"
   ]
  },
  {
   "cell_type": "code",
   "execution_count": null,
   "id": "b259df32",
   "metadata": {},
   "outputs": [],
   "source": [
    "#e) How do your results compare to the basic estimate? Is this what you expect?\n",
    "\n",
    "#It's better as is what i expected "
   ]
  },
  {
   "cell_type": "code",
   "execution_count": null,
   "id": "41db6417",
   "metadata": {},
   "outputs": [],
   "source": [
    "#f) Comment on what happens to “n_used” as σ increases. Why does this happen?\n",
    "\n",
    "# n_used decreases as σ increases as less values are contained in the [-1,3] \n",
    "# as the data are more deviated away from the mean 0\n"
   ]
  }
 ],
 "metadata": {
  "kernelspec": {
   "display_name": "Python 3 (ipykernel)",
   "language": "python",
   "name": "python3"
  },
  "language_info": {
   "codemirror_mode": {
    "name": "ipython",
    "version": 3
   },
   "file_extension": ".py",
   "mimetype": "text/x-python",
   "name": "python",
   "nbconvert_exporter": "python",
   "pygments_lexer": "ipython3",
   "version": "3.10.9"
  }
 },
 "nbformat": 4,
 "nbformat_minor": 5
}
